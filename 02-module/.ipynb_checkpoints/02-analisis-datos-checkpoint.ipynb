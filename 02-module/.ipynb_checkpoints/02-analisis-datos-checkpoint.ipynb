{
 "cells": [
  {
   "cell_type": "code",
   "execution_count": null,
   "id": "initial_id",
   "metadata": {
    "collapsed": true
   },
   "outputs": [],
   "source": [
    "import pandas as pd\n",
    "import numpy as np\n",
    "import matplotlib.pyplot as plt\n",
    "import scipy"
   ]
  },
  {
   "cell_type": "code",
   "outputs": [],
   "source": [
    "pd.set_option('display.max_rows', None)"
   ],
   "metadata": {
    "collapsed": false
   },
   "id": "707821059a079158",
   "execution_count": null
  },
  {
   "cell_type": "code",
   "outputs": [],
   "source": [
    "df = pd.read_csv(\"data/data-covid-limpio.csv\")\n",
    "df.head()"
   ],
   "metadata": {
    "collapsed": false
   },
   "id": "3ba6bf48d8bde241",
   "execution_count": null
  },
  {
   "cell_type": "code",
   "outputs": [],
   "source": [
    "df.info()"
   ],
   "metadata": {
    "collapsed": false
   },
   "id": "e461b9e12fd92dfc",
   "execution_count": null
  },
  {
   "cell_type": "code",
   "outputs": [],
   "source": [
    "valores_int = [ 'id', 'ano', 'semana', 'edad', 'trimestre','total_sintomas', 'total_contactos']\n",
    "\n",
    "valores_float = ['temperatura']\n",
    "\n",
    "valores_bool = ['fiebre', 'malestar', 'tos', 'garganta', 'congestion', 'respiratoria', 'diarrea', 'nauseas', 'cefalea', 'irritabilidad', 'muscular', 'abdominal', 'pecho', 'articulaciones', 'exudado', 'conjuntival', 'convulsion', 'coma', 'disnea', 'auscultacion', 'rxpulmonar', 'embarazo', 'cardiovascular', 'diabetes', 'hepatica', 'neurologica', 'inmunodeficiencia', 'renal', 'hepatico', 'pulmonar', 'cancer',  'contacto_salud', 'contacto_familiar', 'contacto_trabajo', 'contacto_desconocido', 'entorno_salud', 'entorno_familiar', 'entorno_trabajo', 'entorno_desconocido', 'tiene_sintomas', 'contacto_viaje', 'sintoma_grave']\n",
    "\n",
    "valores_str = ['diresa', 'red', 'microred', 'establecimiento', 'institucion', 'clasificacion', 'nombre', 'tipo_edad', 'sexo', 'tipodoc', 'pais_residencia', 'departamento_residencia', 'provincia_residencia', 'residencia', 'ubigeo', 'etnia', 'direccion', 'hospitalizado', 'aislamiento', 'postparto', 'ocupacion', 'otra_ocupacion', 'viajado_14', 'pais_1', 'pais_2', 'pais_3', 'eess_14', 'contacto_14', 'confirmado_14', 'contacto_pais', 'mercado', 'mercado_pais', 'muestra_rap', 'prueba_rap', 'resultado_rap', 'grupo_etario']\n",
    "\n",
    "valores_date = [ 'fecha_not', 'fecha_det', 'fecha_ini', 'fecha_hos', 'fecha_ais', 'fecha_def', 'fecha_mue', 'fecha_res', 'fecha_mue1', 'fecha_res1', 'fecha_rap', 'fecha_res_rap', 'fecha_rap1']"
   ],
   "metadata": {
    "collapsed": false
   },
   "id": "d5c14c01f873ca96",
   "execution_count": null
  },
  {
   "cell_type": "code",
   "outputs": [],
   "source": [
    "df2 = df.copy()\n",
    "# Cambiar el tipo de dato de cada columna según las listas\n",
    "for col in valores_int:\n",
    "    df2[col] = df2[col].astype(int)\n",
    "\n",
    "for col in valores_float:\n",
    "    df2[col] = df2[col].astype(float)\n",
    "\n",
    "for col in valores_bool:\n",
    "    df2[col] = df2[col].astype(bool)\n",
    "\n",
    "for col in valores_str:\n",
    "    df2[col] = df2[col].astype(str)\n",
    "\n",
    "for col in valores_date:\n",
    "    df2[col] = df2[col].astype(str)\n",
    "\n",
    "#for col in valores_date:\n",
    "#    df2[col] = pd.to_datetime(df[col])"
   ],
   "metadata": {
    "collapsed": false
   },
   "id": "3b0b5d853f6c488",
   "execution_count": null
  },
  {
   "cell_type": "code",
   "outputs": [],
   "source": [
    "df2.info()"
   ],
   "metadata": {
    "collapsed": false
   },
   "id": "46bb51fd444b780a",
   "execution_count": null
  },
  {
   "cell_type": "code",
   "outputs": [],
   "source": [
    "valores_numericas = valores_int + valores_float\n",
    "df_valores_numericas = pd.concat([df2[valores_int], df2[valores_float]], axis=1)\n",
    "df_valores_numericas.head()"
   ],
   "metadata": {
    "collapsed": false
   },
   "id": "8ec9e7e66e010c3e",
   "execution_count": null
  },
  {
   "cell_type": "code",
   "outputs": [],
   "source": [
    "Q1 = df_valores_numericas.quantile(0.25)\n",
    "Q3 = df_valores_numericas.quantile(0.75)\n",
    "IQR = Q3 - Q1"
   ],
   "metadata": {
    "collapsed": false
   },
   "id": "8199458a6e784742",
   "execution_count": null
  },
  {
   "cell_type": "code",
   "outputs": [],
   "source": [
    "def inferior_outlier(df_io, col_io):\n",
    "    q1_col = Q1[col_io]\n",
    "    iqr_col = IQR[col_io]\n",
    "    q3_col = Q3[col_io]\n",
    "    lower = df_io[(df[col_io] < (q1_col - 1.5 * iqr_col))]\n",
    "    return lower\n",
    "\n",
    "def superior_outlier(df_so, col_so):\n",
    "    q1_col = Q1[col_so]\n",
    "    iqr_col = IQR[col_so]\n",
    "    q3_col = Q3[col_so]\n",
    "    upper = df_so[(df[col_so] > (q3_col + 1.5 * iqr_col))]\n",
    "    return upper\n",
    "\n",
    "def preprocesar(df_p, col_p):\n",
    "    print(\"*********************** {} ***********************\\n\".format(col_p))\n",
    "    print(\"Outlier mas bajo: {} ****** Outlier superior: {}\\n\".format(inferior_outlier(df_p,col_p).shape[0], superior_outlier(df,col_p).shape[0]))\n",
    "    plt.figure(figsize=(10,8))\n",
    "    plt.subplot(2,1,1)\n",
    "    df[col_p].plot(kind='box', subplots=True, sharex=False, vert=False)\n",
    "    plt.subplot(2,1,2)\n",
    "    df[col_p].plot(kind='density', subplots=True, sharex=False)\n",
    "    plt.show()"
   ],
   "metadata": {
    "collapsed": false
   },
   "id": "9d8e9e067dda970b",
   "execution_count": null
  },
  {
   "cell_type": "code",
   "outputs": [],
   "source": [
    "for i in range(len(valores_numericas)):\n",
    "    preprocesar(df_valores_numericas, valores_numericas[i])"
   ],
   "metadata": {
    "collapsed": false
   },
   "id": "a0cc456967b443f7",
   "execution_count": null
  }
 ],
 "metadata": {
  "kernelspec": {
   "display_name": "Python 3",
   "language": "python",
   "name": "python3"
  },
  "language_info": {
   "codemirror_mode": {
    "name": "ipython",
    "version": 2
   },
   "file_extension": ".py",
   "mimetype": "text/x-python",
   "name": "python",
   "nbconvert_exporter": "python",
   "pygments_lexer": "ipython2",
   "version": "2.7.6"
  }
 },
 "nbformat": 4,
 "nbformat_minor": 5
}
